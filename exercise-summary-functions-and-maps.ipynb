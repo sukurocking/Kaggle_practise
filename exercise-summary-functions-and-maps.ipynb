{
 "cells": [
  {
   "cell_type": "markdown",
   "id": "04340752",
   "metadata": {
    "papermill": {
     "duration": 0.007532,
     "end_time": "2022-11-04T11:51:28.614783",
     "exception": false,
     "start_time": "2022-11-04T11:51:28.607251",
     "status": "completed"
    },
    "tags": []
   },
   "source": [
    "**This notebook is an exercise in the [Pandas](https://www.kaggle.com/learn/pandas) course.  You can reference the tutorial at [this link](https://www.kaggle.com/residentmario/summary-functions-and-maps).**\n",
    "\n",
    "---\n"
   ]
  },
  {
   "cell_type": "markdown",
   "id": "118b7ccf",
   "metadata": {
    "papermill": {
     "duration": 0.006071,
     "end_time": "2022-11-04T11:51:28.627241",
     "exception": false,
     "start_time": "2022-11-04T11:51:28.621170",
     "status": "completed"
    },
    "tags": []
   },
   "source": [
    "# Introduction\n",
    "\n",
    "Now you are ready to get a deeper understanding of your data.\n",
    "\n",
    "Run the following cell to load your data and some utility functions (including code to check your answers)."
   ]
  },
  {
   "cell_type": "code",
   "execution_count": 1,
   "id": "753ad21a",
   "metadata": {
    "execution": {
     "iopub.execute_input": "2022-11-04T11:51:28.642356Z",
     "iopub.status.busy": "2022-11-04T11:51:28.641519Z",
     "iopub.status.idle": "2022-11-04T11:51:36.090264Z",
     "shell.execute_reply": "2022-11-04T11:51:36.088782Z"
    },
    "papermill": {
     "duration": 7.459423,
     "end_time": "2022-11-04T11:51:36.092961",
     "exception": false,
     "start_time": "2022-11-04T11:51:28.633538",
     "status": "completed"
    },
    "tags": []
   },
   "outputs": [
    {
     "name": "stdout",
     "output_type": "stream",
     "text": [
      "Setup complete.\n"
     ]
    },
    {
     "data": {
      "text/html": [
       "<div>\n",
       "<style scoped>\n",
       "    .dataframe tbody tr th:only-of-type {\n",
       "        vertical-align: middle;\n",
       "    }\n",
       "\n",
       "    .dataframe tbody tr th {\n",
       "        vertical-align: top;\n",
       "    }\n",
       "\n",
       "    .dataframe thead th {\n",
       "        text-align: right;\n",
       "    }\n",
       "</style>\n",
       "<table border=\"1\" class=\"dataframe\">\n",
       "  <thead>\n",
       "    <tr style=\"text-align: right;\">\n",
       "      <th></th>\n",
       "      <th>country</th>\n",
       "      <th>description</th>\n",
       "      <th>designation</th>\n",
       "      <th>points</th>\n",
       "      <th>price</th>\n",
       "      <th>province</th>\n",
       "      <th>region_1</th>\n",
       "      <th>region_2</th>\n",
       "      <th>taster_name</th>\n",
       "      <th>taster_twitter_handle</th>\n",
       "      <th>title</th>\n",
       "      <th>variety</th>\n",
       "      <th>winery</th>\n",
       "    </tr>\n",
       "  </thead>\n",
       "  <tbody>\n",
       "    <tr>\n",
       "      <th>0</th>\n",
       "      <td>Italy</td>\n",
       "      <td>Aromas include tropical fruit, broom, brimston...</td>\n",
       "      <td>Vulkà Bianco</td>\n",
       "      <td>87</td>\n",
       "      <td>NaN</td>\n",
       "      <td>Sicily &amp; Sardinia</td>\n",
       "      <td>Etna</td>\n",
       "      <td>NaN</td>\n",
       "      <td>Kerin O’Keefe</td>\n",
       "      <td>@kerinokeefe</td>\n",
       "      <td>Nicosia 2013 Vulkà Bianco  (Etna)</td>\n",
       "      <td>White Blend</td>\n",
       "      <td>Nicosia</td>\n",
       "    </tr>\n",
       "    <tr>\n",
       "      <th>1</th>\n",
       "      <td>Portugal</td>\n",
       "      <td>This is ripe and fruity, a wine that is smooth...</td>\n",
       "      <td>Avidagos</td>\n",
       "      <td>87</td>\n",
       "      <td>15.0</td>\n",
       "      <td>Douro</td>\n",
       "      <td>NaN</td>\n",
       "      <td>NaN</td>\n",
       "      <td>Roger Voss</td>\n",
       "      <td>@vossroger</td>\n",
       "      <td>Quinta dos Avidagos 2011 Avidagos Red (Douro)</td>\n",
       "      <td>Portuguese Red</td>\n",
       "      <td>Quinta dos Avidagos</td>\n",
       "    </tr>\n",
       "    <tr>\n",
       "      <th>2</th>\n",
       "      <td>US</td>\n",
       "      <td>Tart and snappy, the flavors of lime flesh and...</td>\n",
       "      <td>NaN</td>\n",
       "      <td>87</td>\n",
       "      <td>14.0</td>\n",
       "      <td>Oregon</td>\n",
       "      <td>Willamette Valley</td>\n",
       "      <td>Willamette Valley</td>\n",
       "      <td>Paul Gregutt</td>\n",
       "      <td>@paulgwine</td>\n",
       "      <td>Rainstorm 2013 Pinot Gris (Willamette Valley)</td>\n",
       "      <td>Pinot Gris</td>\n",
       "      <td>Rainstorm</td>\n",
       "    </tr>\n",
       "    <tr>\n",
       "      <th>3</th>\n",
       "      <td>US</td>\n",
       "      <td>Pineapple rind, lemon pith and orange blossom ...</td>\n",
       "      <td>Reserve Late Harvest</td>\n",
       "      <td>87</td>\n",
       "      <td>13.0</td>\n",
       "      <td>Michigan</td>\n",
       "      <td>Lake Michigan Shore</td>\n",
       "      <td>NaN</td>\n",
       "      <td>Alexander Peartree</td>\n",
       "      <td>NaN</td>\n",
       "      <td>St. Julian 2013 Reserve Late Harvest Riesling ...</td>\n",
       "      <td>Riesling</td>\n",
       "      <td>St. Julian</td>\n",
       "    </tr>\n",
       "    <tr>\n",
       "      <th>4</th>\n",
       "      <td>US</td>\n",
       "      <td>Much like the regular bottling from 2012, this...</td>\n",
       "      <td>Vintner's Reserve Wild Child Block</td>\n",
       "      <td>87</td>\n",
       "      <td>65.0</td>\n",
       "      <td>Oregon</td>\n",
       "      <td>Willamette Valley</td>\n",
       "      <td>Willamette Valley</td>\n",
       "      <td>Paul Gregutt</td>\n",
       "      <td>@paulgwine</td>\n",
       "      <td>Sweet Cheeks 2012 Vintner's Reserve Wild Child...</td>\n",
       "      <td>Pinot Noir</td>\n",
       "      <td>Sweet Cheeks</td>\n",
       "    </tr>\n",
       "  </tbody>\n",
       "</table>\n",
       "</div>"
      ],
      "text/plain": [
       "    country                                        description  \\\n",
       "0     Italy  Aromas include tropical fruit, broom, brimston...   \n",
       "1  Portugal  This is ripe and fruity, a wine that is smooth...   \n",
       "2        US  Tart and snappy, the flavors of lime flesh and...   \n",
       "3        US  Pineapple rind, lemon pith and orange blossom ...   \n",
       "4        US  Much like the regular bottling from 2012, this...   \n",
       "\n",
       "                          designation  points  price           province  \\\n",
       "0                        Vulkà Bianco      87    NaN  Sicily & Sardinia   \n",
       "1                            Avidagos      87   15.0              Douro   \n",
       "2                                 NaN      87   14.0             Oregon   \n",
       "3                Reserve Late Harvest      87   13.0           Michigan   \n",
       "4  Vintner's Reserve Wild Child Block      87   65.0             Oregon   \n",
       "\n",
       "              region_1           region_2         taster_name  \\\n",
       "0                 Etna                NaN       Kerin O’Keefe   \n",
       "1                  NaN                NaN          Roger Voss   \n",
       "2    Willamette Valley  Willamette Valley        Paul Gregutt   \n",
       "3  Lake Michigan Shore                NaN  Alexander Peartree   \n",
       "4    Willamette Valley  Willamette Valley        Paul Gregutt   \n",
       "\n",
       "  taster_twitter_handle                                              title  \\\n",
       "0          @kerinokeefe                  Nicosia 2013 Vulkà Bianco  (Etna)   \n",
       "1            @vossroger      Quinta dos Avidagos 2011 Avidagos Red (Douro)   \n",
       "2           @paulgwine       Rainstorm 2013 Pinot Gris (Willamette Valley)   \n",
       "3                   NaN  St. Julian 2013 Reserve Late Harvest Riesling ...   \n",
       "4           @paulgwine   Sweet Cheeks 2012 Vintner's Reserve Wild Child...   \n",
       "\n",
       "          variety               winery  \n",
       "0     White Blend              Nicosia  \n",
       "1  Portuguese Red  Quinta dos Avidagos  \n",
       "2      Pinot Gris            Rainstorm  \n",
       "3        Riesling           St. Julian  \n",
       "4      Pinot Noir         Sweet Cheeks  "
      ]
     },
     "execution_count": 1,
     "metadata": {},
     "output_type": "execute_result"
    }
   ],
   "source": [
    "import pandas as pd\n",
    "pd.set_option(\"display.max_rows\", 5)\n",
    "reviews = pd.read_csv(\"../input/wine-reviews/winemag-data-130k-v2.csv\", index_col=0)\n",
    "\n",
    "from learntools.core import binder; binder.bind(globals())\n",
    "from learntools.pandas.summary_functions_and_maps import *\n",
    "print(\"Setup complete.\")\n",
    "\n",
    "reviews.head()"
   ]
  },
  {
   "cell_type": "markdown",
   "id": "dcdf3ee5",
   "metadata": {
    "papermill": {
     "duration": 0.006801,
     "end_time": "2022-11-04T11:51:36.107067",
     "exception": false,
     "start_time": "2022-11-04T11:51:36.100266",
     "status": "completed"
    },
    "tags": []
   },
   "source": [
    "# Exercises"
   ]
  },
  {
   "cell_type": "markdown",
   "id": "3a086a6e",
   "metadata": {
    "papermill": {
     "duration": 0.007418,
     "end_time": "2022-11-04T11:51:36.121814",
     "exception": false,
     "start_time": "2022-11-04T11:51:36.114396",
     "status": "completed"
    },
    "tags": []
   },
   "source": [
    "## 1.\n",
    "\n",
    "What is the median of the `points` column in the `reviews` DataFrame?"
   ]
  },
  {
   "cell_type": "code",
   "execution_count": 2,
   "id": "b686284c",
   "metadata": {
    "execution": {
     "iopub.execute_input": "2022-11-04T11:51:36.137868Z",
     "iopub.status.busy": "2022-11-04T11:51:36.137456Z",
     "iopub.status.idle": "2022-11-04T11:51:36.150100Z",
     "shell.execute_reply": "2022-11-04T11:51:36.148555Z"
    },
    "papermill": {
     "duration": 0.023823,
     "end_time": "2022-11-04T11:51:36.152803",
     "exception": false,
     "start_time": "2022-11-04T11:51:36.128980",
     "status": "completed"
    },
    "tags": []
   },
   "outputs": [
    {
     "data": {
      "application/javascript": [
       "parent.postMessage({\"jupyterEvent\": \"custom.exercise_interaction\", \"data\": {\"outcomeType\": 1, \"valueTowardsCompletion\": 0.14285714285714285, \"interactionType\": 1, \"questionType\": 1, \"questionId\": \"1_MedianPoints\", \"learnToolsVersion\": \"0.3.4\", \"failureMessage\": \"\", \"exceptionClass\": \"\", \"trace\": \"\"}}, \"*\")"
      ],
      "text/plain": [
       "<IPython.core.display.Javascript object>"
      ]
     },
     "metadata": {},
     "output_type": "display_data"
    },
    {
     "data": {
      "text/markdown": [
       "<span style=\"color:#33cc33\">Correct</span>"
      ],
      "text/plain": [
       "Correct"
      ]
     },
     "metadata": {},
     "output_type": "display_data"
    }
   ],
   "source": [
    "median_points = reviews['points'].median()\n",
    "\n",
    "# Check your answer\n",
    "q1.check()"
   ]
  },
  {
   "cell_type": "code",
   "execution_count": 3,
   "id": "6549ba00",
   "metadata": {
    "execution": {
     "iopub.execute_input": "2022-11-04T11:51:36.170680Z",
     "iopub.status.busy": "2022-11-04T11:51:36.169726Z",
     "iopub.status.idle": "2022-11-04T11:51:36.174986Z",
     "shell.execute_reply": "2022-11-04T11:51:36.173789Z"
    },
    "papermill": {
     "duration": 0.016636,
     "end_time": "2022-11-04T11:51:36.177525",
     "exception": false,
     "start_time": "2022-11-04T11:51:36.160889",
     "status": "completed"
    },
    "tags": []
   },
   "outputs": [],
   "source": [
    "#q1.hint()\n",
    "#q1.solution()"
   ]
  },
  {
   "cell_type": "markdown",
   "id": "0063a036",
   "metadata": {
    "papermill": {
     "duration": 0.006832,
     "end_time": "2022-11-04T11:51:36.193123",
     "exception": false,
     "start_time": "2022-11-04T11:51:36.186291",
     "status": "completed"
    },
    "tags": []
   },
   "source": [
    "## 2. \n",
    "What countries are represented in the dataset? (Your answer should not include any duplicates.)"
   ]
  },
  {
   "cell_type": "code",
   "execution_count": 4,
   "id": "01edb8a1",
   "metadata": {
    "execution": {
     "iopub.execute_input": "2022-11-04T11:51:36.209246Z",
     "iopub.status.busy": "2022-11-04T11:51:36.208852Z",
     "iopub.status.idle": "2022-11-04T11:51:36.226988Z",
     "shell.execute_reply": "2022-11-04T11:51:36.225749Z"
    },
    "papermill": {
     "duration": 0.029076,
     "end_time": "2022-11-04T11:51:36.229329",
     "exception": false,
     "start_time": "2022-11-04T11:51:36.200253",
     "status": "completed"
    },
    "tags": []
   },
   "outputs": [
    {
     "data": {
      "application/javascript": [
       "parent.postMessage({\"jupyterEvent\": \"custom.exercise_interaction\", \"data\": {\"outcomeType\": 1, \"valueTowardsCompletion\": 0.14285714285714285, \"interactionType\": 1, \"questionType\": 2, \"questionId\": \"2_UniqueCountries\", \"learnToolsVersion\": \"0.3.4\", \"failureMessage\": \"\", \"exceptionClass\": \"\", \"trace\": \"\"}}, \"*\")"
      ],
      "text/plain": [
       "<IPython.core.display.Javascript object>"
      ]
     },
     "metadata": {},
     "output_type": "display_data"
    },
    {
     "data": {
      "text/markdown": [
       "<span style=\"color:#33cc33\">Correct</span>"
      ],
      "text/plain": [
       "Correct"
      ]
     },
     "metadata": {},
     "output_type": "display_data"
    }
   ],
   "source": [
    "countries = reviews[\"country\"].unique()\n",
    "\n",
    "# Check your answer\n",
    "q2.check()"
   ]
  },
  {
   "cell_type": "code",
   "execution_count": 5,
   "id": "9ad547c5",
   "metadata": {
    "execution": {
     "iopub.execute_input": "2022-11-04T11:51:36.246200Z",
     "iopub.status.busy": "2022-11-04T11:51:36.245804Z",
     "iopub.status.idle": "2022-11-04T11:51:36.253980Z",
     "shell.execute_reply": "2022-11-04T11:51:36.253140Z"
    },
    "papermill": {
     "duration": 0.019148,
     "end_time": "2022-11-04T11:51:36.256156",
     "exception": false,
     "start_time": "2022-11-04T11:51:36.237008",
     "status": "completed"
    },
    "tags": []
   },
   "outputs": [
    {
     "data": {
      "application/javascript": [
       "parent.postMessage({\"jupyterEvent\": \"custom.exercise_interaction\", \"data\": {\"interactionType\": 3, \"questionType\": 2, \"questionId\": \"2_UniqueCountries\", \"learnToolsVersion\": \"0.3.4\", \"valueTowardsCompletion\": 0.0, \"failureMessage\": \"\", \"exceptionClass\": \"\", \"trace\": \"\", \"outcomeType\": 4}}, \"*\")"
      ],
      "text/plain": [
       "<IPython.core.display.Javascript object>"
      ]
     },
     "metadata": {},
     "output_type": "display_data"
    },
    {
     "data": {
      "text/markdown": [
       "<span style=\"color:#33cc99\">Solution:</span> \n",
       "```python\n",
       "countries = reviews.country.unique()\n",
       "```"
      ],
      "text/plain": [
       "Solution: \n",
       "```python\n",
       "countries = reviews.country.unique()\n",
       "```"
      ]
     },
     "metadata": {},
     "output_type": "display_data"
    }
   ],
   "source": [
    "#q2.hint()\n",
    "q2.solution()"
   ]
  },
  {
   "cell_type": "markdown",
   "id": "3b7bf0b7",
   "metadata": {
    "papermill": {
     "duration": 0.007099,
     "end_time": "2022-11-04T11:51:36.270597",
     "exception": false,
     "start_time": "2022-11-04T11:51:36.263498",
     "status": "completed"
    },
    "tags": []
   },
   "source": [
    "## 3.\n",
    "How often does each country appear in the dataset? Create a Series `reviews_per_country` mapping countries to the count of reviews of wines from that country."
   ]
  },
  {
   "cell_type": "code",
   "execution_count": 6,
   "id": "f9f86e73",
   "metadata": {
    "execution": {
     "iopub.execute_input": "2022-11-04T11:51:36.288302Z",
     "iopub.status.busy": "2022-11-04T11:51:36.287812Z",
     "iopub.status.idle": "2022-11-04T11:51:36.307294Z",
     "shell.execute_reply": "2022-11-04T11:51:36.306090Z"
    },
    "papermill": {
     "duration": 0.031535,
     "end_time": "2022-11-04T11:51:36.309644",
     "exception": false,
     "start_time": "2022-11-04T11:51:36.278109",
     "status": "completed"
    },
    "tags": []
   },
   "outputs": [
    {
     "data": {
      "application/javascript": [
       "parent.postMessage({\"jupyterEvent\": \"custom.exercise_interaction\", \"data\": {\"outcomeType\": 1, \"valueTowardsCompletion\": 0.14285714285714285, \"interactionType\": 1, \"questionType\": 1, \"questionId\": \"3_ReviewsPerCountry\", \"learnToolsVersion\": \"0.3.4\", \"failureMessage\": \"\", \"exceptionClass\": \"\", \"trace\": \"\"}}, \"*\")"
      ],
      "text/plain": [
       "<IPython.core.display.Javascript object>"
      ]
     },
     "metadata": {},
     "output_type": "display_data"
    },
    {
     "data": {
      "text/markdown": [
       "<span style=\"color:#33cc33\">Correct</span>"
      ],
      "text/plain": [
       "Correct"
      ]
     },
     "metadata": {},
     "output_type": "display_data"
    }
   ],
   "source": [
    "reviews_per_country = reviews['country'].value_counts()\n",
    "\n",
    "# Check your answer\n",
    "q3.check()"
   ]
  },
  {
   "cell_type": "code",
   "execution_count": 7,
   "id": "8d7f7ca7",
   "metadata": {
    "execution": {
     "iopub.execute_input": "2022-11-04T11:51:36.327533Z",
     "iopub.status.busy": "2022-11-04T11:51:36.327061Z",
     "iopub.status.idle": "2022-11-04T11:51:36.337424Z",
     "shell.execute_reply": "2022-11-04T11:51:36.336127Z"
    },
    "papermill": {
     "duration": 0.021613,
     "end_time": "2022-11-04T11:51:36.339496",
     "exception": false,
     "start_time": "2022-11-04T11:51:36.317883",
     "status": "completed"
    },
    "tags": []
   },
   "outputs": [
    {
     "data": {
      "application/javascript": [
       "parent.postMessage({\"jupyterEvent\": \"custom.exercise_interaction\", \"data\": {\"interactionType\": 3, \"questionType\": 1, \"questionId\": \"3_ReviewsPerCountry\", \"learnToolsVersion\": \"0.3.4\", \"valueTowardsCompletion\": 0.0, \"failureMessage\": \"\", \"exceptionClass\": \"\", \"trace\": \"\", \"outcomeType\": 4}}, \"*\")"
      ],
      "text/plain": [
       "<IPython.core.display.Javascript object>"
      ]
     },
     "metadata": {},
     "output_type": "display_data"
    },
    {
     "data": {
      "text/markdown": [
       "<span style=\"color:#33cc99\">Solution:</span> \n",
       "```python\n",
       "reviews_per_country = reviews.country.value_counts()\n",
       "```"
      ],
      "text/plain": [
       "Solution: \n",
       "```python\n",
       "reviews_per_country = reviews.country.value_counts()\n",
       "```"
      ]
     },
     "metadata": {},
     "output_type": "display_data"
    }
   ],
   "source": [
    "#q3.hint()\n",
    "q3.solution()"
   ]
  },
  {
   "cell_type": "markdown",
   "id": "3126527e",
   "metadata": {
    "papermill": {
     "duration": 0.007813,
     "end_time": "2022-11-04T11:51:36.355193",
     "exception": false,
     "start_time": "2022-11-04T11:51:36.347380",
     "status": "completed"
    },
    "tags": []
   },
   "source": [
    "## 4.\n",
    "Create variable `centered_price` containing a version of the `price` column with the mean price subtracted.\n",
    "\n",
    "(Note: this 'centering' transformation is a common preprocessing step before applying various machine learning algorithms.) "
   ]
  },
  {
   "cell_type": "code",
   "execution_count": 8,
   "id": "6a99f9e6",
   "metadata": {
    "execution": {
     "iopub.execute_input": "2022-11-04T11:51:36.373372Z",
     "iopub.status.busy": "2022-11-04T11:51:36.372885Z",
     "iopub.status.idle": "2022-11-04T11:51:36.384217Z",
     "shell.execute_reply": "2022-11-04T11:51:36.383066Z"
    },
    "papermill": {
     "duration": 0.023209,
     "end_time": "2022-11-04T11:51:36.386656",
     "exception": false,
     "start_time": "2022-11-04T11:51:36.363447",
     "status": "completed"
    },
    "tags": []
   },
   "outputs": [
    {
     "data": {
      "application/javascript": [
       "parent.postMessage({\"jupyterEvent\": \"custom.exercise_interaction\", \"data\": {\"outcomeType\": 1, \"valueTowardsCompletion\": 0.14285714285714285, \"interactionType\": 1, \"questionType\": 1, \"questionId\": \"4_CenteredPrice\", \"learnToolsVersion\": \"0.3.4\", \"failureMessage\": \"\", \"exceptionClass\": \"\", \"trace\": \"\"}}, \"*\")"
      ],
      "text/plain": [
       "<IPython.core.display.Javascript object>"
      ]
     },
     "metadata": {},
     "output_type": "display_data"
    },
    {
     "data": {
      "text/markdown": [
       "<span style=\"color:#33cc33\">Correct</span>"
      ],
      "text/plain": [
       "Correct"
      ]
     },
     "metadata": {},
     "output_type": "display_data"
    }
   ],
   "source": [
    "centered_price = reviews['price'] - reviews['price'].mean()\n",
    "\n",
    "# Check your answer\n",
    "q4.check()"
   ]
  },
  {
   "cell_type": "code",
   "execution_count": 9,
   "id": "d7fcacb8",
   "metadata": {
    "execution": {
     "iopub.execute_input": "2022-11-04T11:51:36.406054Z",
     "iopub.status.busy": "2022-11-04T11:51:36.404981Z",
     "iopub.status.idle": "2022-11-04T11:51:36.415043Z",
     "shell.execute_reply": "2022-11-04T11:51:36.413908Z"
    },
    "papermill": {
     "duration": 0.022143,
     "end_time": "2022-11-04T11:51:36.417512",
     "exception": false,
     "start_time": "2022-11-04T11:51:36.395369",
     "status": "completed"
    },
    "tags": []
   },
   "outputs": [
    {
     "data": {
      "application/javascript": [
       "parent.postMessage({\"jupyterEvent\": \"custom.exercise_interaction\", \"data\": {\"interactionType\": 3, \"questionType\": 1, \"questionId\": \"4_CenteredPrice\", \"learnToolsVersion\": \"0.3.4\", \"valueTowardsCompletion\": 0.0, \"failureMessage\": \"\", \"exceptionClass\": \"\", \"trace\": \"\", \"outcomeType\": 4}}, \"*\")"
      ],
      "text/plain": [
       "<IPython.core.display.Javascript object>"
      ]
     },
     "metadata": {},
     "output_type": "display_data"
    },
    {
     "data": {
      "text/markdown": [
       "<span style=\"color:#33cc99\">Solution:</span> \n",
       "```python\n",
       "centered_price = reviews.price - reviews.price.mean()\n",
       "```"
      ],
      "text/plain": [
       "Solution: \n",
       "```python\n",
       "centered_price = reviews.price - reviews.price.mean()\n",
       "```"
      ]
     },
     "metadata": {},
     "output_type": "display_data"
    }
   ],
   "source": [
    "#q4.hint()\n",
    "q4.solution()"
   ]
  },
  {
   "cell_type": "markdown",
   "id": "a7a524c5",
   "metadata": {
    "papermill": {
     "duration": 0.008623,
     "end_time": "2022-11-04T11:51:36.434864",
     "exception": false,
     "start_time": "2022-11-04T11:51:36.426241",
     "status": "completed"
    },
    "tags": []
   },
   "source": [
    "## 5.\n",
    "I'm an economical wine buyer. Which wine is the \"best bargain\"? Create a variable `bargain_wine` with the title of the wine with the highest points-to-price ratio in the dataset."
   ]
  },
  {
   "cell_type": "code",
   "execution_count": 10,
   "id": "71b94305",
   "metadata": {
    "execution": {
     "iopub.execute_input": "2022-11-04T11:51:36.454291Z",
     "iopub.status.busy": "2022-11-04T11:51:36.453855Z",
     "iopub.status.idle": "2022-11-04T11:51:36.470910Z",
     "shell.execute_reply": "2022-11-04T11:51:36.469729Z"
    },
    "papermill": {
     "duration": 0.029491,
     "end_time": "2022-11-04T11:51:36.473153",
     "exception": false,
     "start_time": "2022-11-04T11:51:36.443662",
     "status": "completed"
    },
    "tags": []
   },
   "outputs": [
    {
     "name": "stdout",
     "output_type": "stream",
     "text": [
      "Bandit NV Merlot (California)\n"
     ]
    },
    {
     "data": {
      "application/javascript": [
       "parent.postMessage({\"jupyterEvent\": \"custom.exercise_interaction\", \"data\": {\"outcomeType\": 1, \"valueTowardsCompletion\": 0.14285714285714285, \"interactionType\": 1, \"questionType\": 2, \"questionId\": \"5_BargainWine\", \"learnToolsVersion\": \"0.3.4\", \"failureMessage\": \"\", \"exceptionClass\": \"\", \"trace\": \"\"}}, \"*\")"
      ],
      "text/plain": [
       "<IPython.core.display.Javascript object>"
      ]
     },
     "metadata": {},
     "output_type": "display_data"
    },
    {
     "data": {
      "text/markdown": [
       "<span style=\"color:#33cc33\">Correct</span>"
      ],
      "text/plain": [
       "Correct"
      ]
     },
     "metadata": {},
     "output_type": "display_data"
    }
   ],
   "source": [
    "# reviews['points_to_price_ratio'] = reviews['points']/reviews['price']\n",
    "# highest_points_to_price_ratio = reviews['points_to_price_ratio'].max()\n",
    "# bargain_wine = reviews[reviews['points_to_price_ratio']==highest_points_to_price_ratio]['title']\n",
    "# print(bargain_wine)\n",
    "bargain_idx = (reviews['points']/reviews['price']).idxmax()\n",
    "bargain_wine = reviews.loc[bargain_idx, 'title']\n",
    "print(bargain_wine)\n",
    "# Check your answer\n",
    "q5.check()"
   ]
  },
  {
   "cell_type": "code",
   "execution_count": 11,
   "id": "f2253c6a",
   "metadata": {
    "execution": {
     "iopub.execute_input": "2022-11-04T11:51:36.493965Z",
     "iopub.status.busy": "2022-11-04T11:51:36.493396Z",
     "iopub.status.idle": "2022-11-04T11:51:36.501915Z",
     "shell.execute_reply": "2022-11-04T11:51:36.500766Z"
    },
    "papermill": {
     "duration": 0.021738,
     "end_time": "2022-11-04T11:51:36.504259",
     "exception": false,
     "start_time": "2022-11-04T11:51:36.482521",
     "status": "completed"
    },
    "tags": []
   },
   "outputs": [
    {
     "data": {
      "application/javascript": [
       "parent.postMessage({\"jupyterEvent\": \"custom.exercise_interaction\", \"data\": {\"interactionType\": 3, \"questionType\": 2, \"questionId\": \"5_BargainWine\", \"learnToolsVersion\": \"0.3.4\", \"valueTowardsCompletion\": 0.0, \"failureMessage\": \"\", \"exceptionClass\": \"\", \"trace\": \"\", \"outcomeType\": 4}}, \"*\")"
      ],
      "text/plain": [
       "<IPython.core.display.Javascript object>"
      ]
     },
     "metadata": {},
     "output_type": "display_data"
    },
    {
     "data": {
      "text/markdown": [
       "<span style=\"color:#33cc99\">Solution:</span> \n",
       "```python\n",
       "bargain_idx = (reviews.points / reviews.price).idxmax()\n",
       "bargain_wine = reviews.loc[bargain_idx, 'title']\n",
       "```"
      ],
      "text/plain": [
       "Solution: \n",
       "```python\n",
       "bargain_idx = (reviews.points / reviews.price).idxmax()\n",
       "bargain_wine = reviews.loc[bargain_idx, 'title']\n",
       "```"
      ]
     },
     "metadata": {},
     "output_type": "display_data"
    }
   ],
   "source": [
    "#q5.hint()\n",
    "q5.solution()"
   ]
  },
  {
   "cell_type": "markdown",
   "id": "f8166704",
   "metadata": {
    "papermill": {
     "duration": 0.008838,
     "end_time": "2022-11-04T11:51:36.522197",
     "exception": false,
     "start_time": "2022-11-04T11:51:36.513359",
     "status": "completed"
    },
    "tags": []
   },
   "source": [
    "## 6.\n",
    "There are only so many words you can use when describing a bottle of wine. Is a wine more likely to be \"tropical\" or \"fruity\"? Create a Series `descriptor_counts` counting how many times each of these two words appears in the `description` column in the dataset. (For simplicity, let's ignore the capitalized versions of these words.)"
   ]
  },
  {
   "cell_type": "code",
   "execution_count": 12,
   "id": "58c0d299",
   "metadata": {
    "execution": {
     "iopub.execute_input": "2022-11-04T11:51:36.542854Z",
     "iopub.status.busy": "2022-11-04T11:51:36.542408Z",
     "iopub.status.idle": "2022-11-04T11:51:36.726432Z",
     "shell.execute_reply": "2022-11-04T11:51:36.724987Z"
    },
    "papermill": {
     "duration": 0.197972,
     "end_time": "2022-11-04T11:51:36.729198",
     "exception": false,
     "start_time": "2022-11-04T11:51:36.531226",
     "status": "completed"
    },
    "tags": []
   },
   "outputs": [
    {
     "name": "stdout",
     "output_type": "stream",
     "text": [
      "3607\n",
      "9090\n"
     ]
    }
   ],
   "source": [
    "trop_count = reviews['description'].apply(lambda a_str:a_str.find('tropical')>-1).sum()\n",
    "fruity_count = reviews['description'].apply(lambda a_str:a_str.find('fruity')>-1).sum()\n",
    "print(trop_count)\n",
    "print(fruity_count)"
   ]
  },
  {
   "cell_type": "code",
   "execution_count": 13,
   "id": "948757fc",
   "metadata": {
    "execution": {
     "iopub.execute_input": "2022-11-04T11:51:36.753102Z",
     "iopub.status.busy": "2022-11-04T11:51:36.752671Z",
     "iopub.status.idle": "2022-11-04T11:51:36.759526Z",
     "shell.execute_reply": "2022-11-04T11:51:36.758483Z"
    },
    "papermill": {
     "duration": 0.022419,
     "end_time": "2022-11-04T11:51:36.762181",
     "exception": false,
     "start_time": "2022-11-04T11:51:36.739762",
     "status": "completed"
    },
    "tags": []
   },
   "outputs": [
    {
     "name": "stdout",
     "output_type": "stream",
     "text": [
      "0    3607\n",
      "1    9090\n",
      "dtype: int64\n"
     ]
    }
   ],
   "source": [
    "\n",
    "descriptor_counts = pd.Series([trop_count, fruity_count])\n",
    "print(descriptor_counts)\n",
    "# Check your answer\n",
    "#q6.check()"
   ]
  },
  {
   "cell_type": "code",
   "execution_count": 14,
   "id": "9ca65aa8",
   "metadata": {
    "execution": {
     "iopub.execute_input": "2022-11-04T11:51:36.784324Z",
     "iopub.status.busy": "2022-11-04T11:51:36.783892Z",
     "iopub.status.idle": "2022-11-04T11:51:36.793049Z",
     "shell.execute_reply": "2022-11-04T11:51:36.791807Z"
    },
    "papermill": {
     "duration": 0.023439,
     "end_time": "2022-11-04T11:51:36.795266",
     "exception": false,
     "start_time": "2022-11-04T11:51:36.771827",
     "status": "completed"
    },
    "tags": []
   },
   "outputs": [
    {
     "data": {
      "application/javascript": [
       "parent.postMessage({\"jupyterEvent\": \"custom.exercise_interaction\", \"data\": {\"interactionType\": 3, \"questionType\": 1, \"questionId\": \"6_DescriptorCounts\", \"learnToolsVersion\": \"0.3.4\", \"valueTowardsCompletion\": 0.0, \"failureMessage\": \"\", \"exceptionClass\": \"\", \"trace\": \"\", \"outcomeType\": 4}}, \"*\")"
      ],
      "text/plain": [
       "<IPython.core.display.Javascript object>"
      ]
     },
     "metadata": {},
     "output_type": "display_data"
    },
    {
     "data": {
      "text/markdown": [
       "<span style=\"color:#33cc99\">Solution:</span> \n",
       "```python\n",
       "n_trop = reviews.description.map(lambda desc: \"tropical\" in desc).sum()\n",
       "n_fruity = reviews.description.map(lambda desc: \"fruity\" in desc).sum()\n",
       "descriptor_counts = pd.Series([n_trop, n_fruity], index=['tropical', 'fruity'])\n",
       "```"
      ],
      "text/plain": [
       "Solution: \n",
       "```python\n",
       "n_trop = reviews.description.map(lambda desc: \"tropical\" in desc).sum()\n",
       "n_fruity = reviews.description.map(lambda desc: \"fruity\" in desc).sum()\n",
       "descriptor_counts = pd.Series([n_trop, n_fruity], index=['tropical', 'fruity'])\n",
       "```"
      ]
     },
     "metadata": {},
     "output_type": "display_data"
    }
   ],
   "source": [
    "#q6.hint()\n",
    "q6.solution()"
   ]
  },
  {
   "cell_type": "markdown",
   "id": "42663692",
   "metadata": {
    "papermill": {
     "duration": 0.009328,
     "end_time": "2022-11-04T11:51:36.814899",
     "exception": false,
     "start_time": "2022-11-04T11:51:36.805571",
     "status": "completed"
    },
    "tags": []
   },
   "source": [
    "## 7.\n",
    "We'd like to host these wine reviews on our website, but a rating system ranging from 80 to 100 points is too hard to understand - we'd like to translate them into simple star ratings. A score of 95 or higher counts as 3 stars, a score of at least 85 but less than 95 is 2 stars. Any other score is 1 star.\n",
    "\n",
    "Also, the Canadian Vintners Association bought a lot of ads on the site, so any wines from Canada should automatically get 3 stars, regardless of points.\n",
    "\n",
    "Create a series `star_ratings` with the number of stars corresponding to each review in the dataset."
   ]
  },
  {
   "cell_type": "code",
   "execution_count": 15,
   "id": "87362dde",
   "metadata": {
    "execution": {
     "iopub.execute_input": "2022-11-04T11:51:36.837012Z",
     "iopub.status.busy": "2022-11-04T11:51:36.835642Z",
     "iopub.status.idle": "2022-11-04T11:51:39.310659Z",
     "shell.execute_reply": "2022-11-04T11:51:39.309721Z"
    },
    "papermill": {
     "duration": 2.488512,
     "end_time": "2022-11-04T11:51:39.313204",
     "exception": false,
     "start_time": "2022-11-04T11:51:36.824692",
     "status": "completed"
    },
    "tags": []
   },
   "outputs": [
    {
     "data": {
      "application/javascript": [
       "parent.postMessage({\"jupyterEvent\": \"custom.exercise_interaction\", \"data\": {\"outcomeType\": 1, \"valueTowardsCompletion\": 0.14285714285714285, \"interactionType\": 1, \"questionType\": 1, \"questionId\": \"7_StarRatings\", \"learnToolsVersion\": \"0.3.4\", \"failureMessage\": \"\", \"exceptionClass\": \"\", \"trace\": \"\"}}, \"*\")"
      ],
      "text/plain": [
       "<IPython.core.display.Javascript object>"
      ]
     },
     "metadata": {},
     "output_type": "display_data"
    },
    {
     "data": {
      "text/markdown": [
       "<span style=\"color:#33cc33\">Correct</span>"
      ],
      "text/plain": [
       "Correct"
      ]
     },
     "metadata": {},
     "output_type": "display_data"
    }
   ],
   "source": [
    "def rating_system(row):\n",
    "    if row['country']=='Canada':\n",
    "        rating = 3\n",
    "    else:\n",
    "        if row['points']>=95:\n",
    "            rating = 3\n",
    "        elif row['points']>=85:\n",
    "            rating = 2\n",
    "        else:\n",
    "            rating = 1\n",
    "    return rating\n",
    "    \n",
    "star_ratings = reviews.apply(rating_system,axis=1) #function is applied across rows\n",
    "\n",
    "# Check your answer\n",
    "q7.check()"
   ]
  },
  {
   "cell_type": "code",
   "execution_count": 16,
   "id": "d5f35729",
   "metadata": {
    "execution": {
     "iopub.execute_input": "2022-11-04T11:51:39.334158Z",
     "iopub.status.busy": "2022-11-04T11:51:39.333758Z",
     "iopub.status.idle": "2022-11-04T11:51:39.342777Z",
     "shell.execute_reply": "2022-11-04T11:51:39.341521Z"
    },
    "papermill": {
     "duration": 0.022256,
     "end_time": "2022-11-04T11:51:39.345073",
     "exception": false,
     "start_time": "2022-11-04T11:51:39.322817",
     "status": "completed"
    },
    "tags": []
   },
   "outputs": [
    {
     "data": {
      "application/javascript": [
       "parent.postMessage({\"jupyterEvent\": \"custom.exercise_interaction\", \"data\": {\"interactionType\": 3, \"questionType\": 1, \"questionId\": \"7_StarRatings\", \"learnToolsVersion\": \"0.3.4\", \"valueTowardsCompletion\": 0.0, \"failureMessage\": \"\", \"exceptionClass\": \"\", \"trace\": \"\", \"outcomeType\": 4}}, \"*\")"
      ],
      "text/plain": [
       "<IPython.core.display.Javascript object>"
      ]
     },
     "metadata": {},
     "output_type": "display_data"
    },
    {
     "data": {
      "text/markdown": [
       "<span style=\"color:#33cc99\">Solution:</span> \n",
       "```python\n",
       "def stars(row):\n",
       "    if row.country == 'Canada':\n",
       "        return 3\n",
       "    elif row.points >= 95:\n",
       "        return 3\n",
       "    elif row.points >= 85:\n",
       "        return 2\n",
       "    else:\n",
       "        return 1\n",
       "    \n",
       "star_ratings = reviews.apply(stars, axis='columns')\n",
       "```"
      ],
      "text/plain": [
       "Solution: \n",
       "```python\n",
       "def stars(row):\n",
       "    if row.country == 'Canada':\n",
       "        return 3\n",
       "    elif row.points >= 95:\n",
       "        return 3\n",
       "    elif row.points >= 85:\n",
       "        return 2\n",
       "    else:\n",
       "        return 1\n",
       "    \n",
       "star_ratings = reviews.apply(stars, axis='columns')\n",
       "```"
      ]
     },
     "metadata": {},
     "output_type": "display_data"
    }
   ],
   "source": [
    "#q7.hint()\n",
    "q7.solution()"
   ]
  },
  {
   "cell_type": "markdown",
   "id": "a0685b74",
   "metadata": {
    "papermill": {
     "duration": 0.009415,
     "end_time": "2022-11-04T11:51:39.364518",
     "exception": false,
     "start_time": "2022-11-04T11:51:39.355103",
     "status": "completed"
    },
    "tags": []
   },
   "source": [
    "# Keep going\n",
    "Continue to **[grouping and sorting](https://www.kaggle.com/residentmario/grouping-and-sorting)**."
   ]
  },
  {
   "cell_type": "markdown",
   "id": "2d71cae1",
   "metadata": {
    "papermill": {
     "duration": 0.009399,
     "end_time": "2022-11-04T11:51:39.383925",
     "exception": false,
     "start_time": "2022-11-04T11:51:39.374526",
     "status": "completed"
    },
    "tags": []
   },
   "source": [
    "---\n",
    "\n",
    "\n",
    "\n",
    "\n",
    "*Have questions or comments? Visit the [course discussion forum](https://www.kaggle.com/learn/pandas/discussion) to chat with other learners.*"
   ]
  }
 ],
 "metadata": {
  "kernelspec": {
   "display_name": "Python 3",
   "language": "python",
   "name": "python3"
  },
  "language_info": {
   "codemirror_mode": {
    "name": "ipython",
    "version": 3
   },
   "file_extension": ".py",
   "mimetype": "text/x-python",
   "name": "python",
   "nbconvert_exporter": "python",
   "pygments_lexer": "ipython3",
   "version": "3.7.12"
  },
  "papermill": {
   "default_parameters": {},
   "duration": 20.19774,
   "end_time": "2022-11-04T11:51:40.117000",
   "environment_variables": {},
   "exception": null,
   "input_path": "__notebook__.ipynb",
   "output_path": "__notebook__.ipynb",
   "parameters": {},
   "start_time": "2022-11-04T11:51:19.919260",
   "version": "2.3.4"
  }
 },
 "nbformat": 4,
 "nbformat_minor": 5
}
